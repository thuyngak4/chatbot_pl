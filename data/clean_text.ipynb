{
 "cells": [
  {
   "cell_type": "code",
   "execution_count": null,
   "metadata": {},
   "outputs": [],
   "source": [
    "%pip install python-docx"
   ]
  },
  {
   "cell_type": "code",
   "execution_count": null,
   "metadata": {},
   "outputs": [],
   "source": [
    "from docx import Document\n",
    "\n",
    "def clean_word_remove_footer(input_path, output_path):\n",
    "    # Mở tài liệu Word\n",
    "    doc = Document(input_path)\n",
    "    \n",
    "    for section in doc.sections:\n",
    "        # Xóa nội dung trong footer\n",
    "        for paragraph in section.footer.paragraphs:\n",
    "            paragraph.text = \"\"  # Làm trống nội dung\n",
    "        \n",
    "        # Xóa nội dung trong header (nếu cần)\n",
    "        for paragraph in section.header.paragraphs:\n",
    "            paragraph.text = \"\"  # Làm trống nội dung\n",
    "    \n",
    "    # Lưu tài liệu đã làm sạch\n",
    "    doc.save(output_path)\n",
    "    print(f\"Footer và Header đã được làm trống. Tệp mới lưu tại: {output_path}\")\n",
    "\n",
    "# Sử dụng\n",
    "clean_word_remove_footer(\"QUỐC HỘI.docx\", \"52.2014.QH13_clean.docx\")\n"
   ]
  },
  {
   "cell_type": "code",
   "execution_count": null,
   "metadata": {},
   "outputs": [],
   "source": [
    "from docx import Document\n",
    "\n",
    "def clean_word_based_on_keywords(input_path, output_path, keywords_to_remove_start, keywords_to_remove_end):\n",
    "    \"\"\"\n",
    "    Xóa các phần đầu và cuối tài liệu dựa trên từ khóa xác định.\n",
    "    \n",
    "    input_path: Đường dẫn file gốc (.docx)\n",
    "    output_path: Đường dẫn file kết quả (.docx)\n",
    "    keywords_to_remove_start: Danh sách từ khóa để xác định phần đầu không liên quan.\n",
    "    keywords_to_remove_end: Danh sách từ khóa để xác định phần cuối không liên quan.\n",
    "    \"\"\"\n",
    "    doc = Document(input_path)\n",
    "    paragraphs = doc.paragraphs\n",
    "    new_doc = Document()\n",
    "\n",
    "    # Tìm và loại bỏ các phần đầu không liên quan\n",
    "    start_index = 0\n",
    "    for i, paragraph in enumerate(paragraphs):\n",
    "        if any(keyword in paragraph.text for keyword in keywords_to_remove_start):\n",
    "            start_index = i + 1  # Bắt đầu từ đoạn sau phần đầu không liên quan\n",
    "        else:\n",
    "            break\n",
    "\n",
    "    # Tìm và loại bỏ các phần cuối không liên quan\n",
    "    end_index = len(paragraphs)\n",
    "    for i, paragraph in enumerate(reversed(paragraphs)):\n",
    "        if any(keyword in paragraph.text for keyword in keywords_to_remove_end):\n",
    "            end_index = len(paragraphs) - i - 1  # Dừng lại ở đoạn trước phần cuối không liên quan\n",
    "        else:\n",
    "            break\n",
    "\n",
    "    # Thêm các đoạn văn còn lại vào tài liệu mới\n",
    "    for i, paragraph in enumerate(paragraphs[start_index:end_index]):\n",
    "        new_doc.add_paragraph(paragraph.text)\n",
    "\n",
    "    # Lưu tài liệu đã làm sạch\n",
    "    new_doc.save(output_path)\n",
    "    print(f\"Đã làm sạch tài liệu. Tệp lưu tại: {output_path}\")\n",
    "\n",
    "# Sử dụng:\n",
    "keywords_to_remove_start = [\"Cộng hòa xã hội chủ nghĩa Việt Nam\", \"Quốc hội\", \"Chủ tịch\"]\n",
    "keywords_to_remove_end = [\"Chữ ký\", \"Phê duyệt\", \"Chủ tịch\"]\n",
    "\n",
    "clean_word_based_on_keywords(\n",
    "    \"QUỐC HỘI.docx\",\n",
    "    \"52.2014.QH13_clean.docx\",\n",
    "    keywords_to_remove_start=keywords_to_remove_start,\n",
    "    keywords_to_remove_end=keywords_to_remove_end\n",
    ")"
   ]
  }
 ],
 "metadata": {
  "language_info": {
   "name": "python"
  }
 },
 "nbformat": 4,
 "nbformat_minor": 2
}
